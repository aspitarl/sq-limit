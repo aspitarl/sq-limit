{
 "cells": [
  {
   "cell_type": "code",
   "execution_count": 1,
   "metadata": {},
   "outputs": [],
   "source": [
    "import numpy as np\n",
    "import scipy.constants as constants\n",
    "import matplotlib.pyplot as plt\n",
    "import matplotlib\n",
    "import os\n",
    "\n",
    "import detailedbalance as db\n",
    "\n",
    "font = {'size' : 22}\n",
    "\n",
    "matplotlib.rc('font',**font)\n",
    "%matplotlib inline"
   ]
  },
  {
   "cell_type": "code",
   "execution_count": null,
   "metadata": {},
   "outputs": [],
   "source": [
    "# Just some constants for the upcoming math\n",
    "c = constants.value('speed of light in vacuum')\n",
    "h = constants.value('Planck constant in eV s')\n",
    "e = constants.value('elementary charge')\n",
    "k = constants.value('Boltzmann constant in eV/K')\n",
    "\n",
    "pi = 3.1415\n",
    "\n",
    "# Globals\n",
    "Tcell = 300  # Kelvin\n",
    "# Energy Gap\n",
    "Egap = 1.1  #electron volts\n",
    "\n",
    "r_earth = 6e6\n",
    "r_sun = 6.95e8\n",
    "d_sun = 1.50e11"
   ]
  },
  {
   "cell_type": "code",
   "execution_count": null,
   "metadata": {},
   "outputs": [],
   "source": [
    "E_ph = np.arange(0.01, 10,0.01) \n",
    "E_ph = np.flip(E_ph,0)\n",
    "\n",
    "E_gaps = np.arange(0.3, 5,0.01) \n",
    "E_gaps = np.flip(E_gaps,0)\n",
    "\n",
    "sourcetype = 0 \n",
    "\n",
    "constants = {}\n",
    "\n",
    "# sourcetype 1 for sun and 0 for full angle. This should perhaps be combined with the max_eff_temp function\n",
    "if(sourcetype):\n",
    "    constants['Temp'] = 5750\n",
    "    constants['powfactor'] = 1\n",
    "    constants['solidangle'] = db.solid_angle_sun(r_earth,d_sun)\n",
    "    constants['emitterarea'] = 4*pi*r_sun**2\n",
    "    constants['absorberarea'] = pi*r_earth**2\n",
    "else:\n",
    "    constants['Temp'] = 2500\n",
    "    constants['powfactor'] = 1\n",
    "    constants['solidangle'] = 2*pi\n",
    "    constants['emitterarea'] = 1\n",
    "    constants['absorberarea'] = 1\n",
    "    \n",
    "#constants['emissivity'] = db.gen_emissivity(0.1,1,1.1,E_ph)\n",
    "constants['emissivity'] = db.lor_emissivity(0.1,1,1.25,0.1,E_ph)\n",
    "   \n",
    "BB = db.gen_spectrum(E_ph,constants)\n",
    "BB_ph = db.power_to_photons(BB)\n",
    "\n",
    "#check integrated irradiance is ~1kW/m^2\n",
    "integrate = -np.trapz(BB[:,1],BB[:,0] )\n",
    "print(integrate)\n",
    "\n",
    "print(db.stephan(5750)*4*pi*r_sun**2)"
   ]
  },
  {
   "cell_type": "code",
   "execution_count": null,
   "metadata": {},
   "outputs": [],
   "source": [
    "db.sq_limit_plot(BB_ph,E_gaps)"
   ]
  },
  {
   "cell_type": "code",
   "execution_count": null,
   "metadata": {},
   "outputs": [],
   "source": [
    "db.iv_curve_plot(1.1, BB_ph)"
   ]
  },
  {
   "cell_type": "code",
   "execution_count": null,
   "metadata": {
    "scrolled": false
   },
   "outputs": [],
   "source": [
    "plt.plot(BB[:,0],BB[:,1])\n",
    "plt.xlabel('Photon Energy (eV)')\n",
    "plt.ylabel('Spectral Irradiance ($Wm^{-2}eV^{-1}$)')\n",
    "plt.title('Spectral Irradiance')"
   ]
  },
  {
   "cell_type": "code",
   "execution_count": null,
   "metadata": {},
   "outputs": [],
   "source": [
    "plt.plot(BB_ph[:,0],BB_ph[:,1] )\n",
    "plt.xlabel('Photon Energy (eV)')\n",
    "plt.ylabel('Photon Irradiance (# $m^{-2}eV^{-1}$)')\n",
    "plt.title('Spectrum Irradiance')"
   ]
  },
  {
   "cell_type": "code",
   "execution_count": null,
   "metadata": {},
   "outputs": [],
   "source": [
    "db.photons_above_bandgap_plot(BB_ph,E_gaps)"
   ]
  },
  {
   "cell_type": "code",
   "execution_count": null,
   "metadata": {},
   "outputs": [],
   "source": [
    "# For an ideal solar cell these will be\n",
    "print('A material with a bandgap of %.2f will have an:' % Egap)\n",
    "print('Ideal short circuit current: ', db.jsc(Egap, BB_ph), 'A/m^2')\n",
    "print('Ideal open circuit  voltage: ', db.voc(Egap, BB_ph), 'V')\n",
    "\n",
    "\n",
    "#watch out for minus 1"
   ]
  },
  {
   "cell_type": "code",
   "execution_count": null,
   "metadata": {},
   "outputs": [],
   "source": [
    "db.recomb_rate_v(.1,BB_ph, .1)"
   ]
  },
  {
   "cell_type": "code",
   "execution_count": null,
   "metadata": {},
   "outputs": [],
   "source": [
    "db.voc(.2, BB_ph)"
   ]
  },
  {
   "cell_type": "code",
   "execution_count": null,
   "metadata": {},
   "outputs": [],
   "source": [
    "db.ideal_voc_plot(BB_ph,E_gaps)"
   ]
  },
  {
   "cell_type": "code",
   "execution_count": null,
   "metadata": {},
   "outputs": [],
   "source": [
    "db.ideal_jsc_plot(BB_ph,E_gaps)"
   ]
  },
  {
   "cell_type": "code",
   "execution_count": null,
   "metadata": {},
   "outputs": [],
   "source": [
    "print('For a cell with bandgap %.2f eV' % Egap)\n",
    "print('max power %.2f' % db.max_power(Egap, BB_ph) )\n",
    "print('Irradiance %.2f' % db.int_irr(Egap, BB_ph ))\n",
    "print('Ideal efficiency is {:.4}%'.format(db.max_eff(Egap, BB_ph)*100))"
   ]
  },
  {
   "cell_type": "code",
   "execution_count": null,
   "metadata": {},
   "outputs": [],
   "source": [
    "#generate multiple blackbody spectra\n",
    "\n",
    "\n",
    "max_eff_all_Si, max_eff_all_GaSb, max_pow_all_Si,max_pow_all_GaSb = db.max_eff_temp(E_ph,1000,3000,100, constants)\n",
    "#spectra_ph_all\n",
    "\n",
    "\n",
    "ln1 = plt.plot(max_eff_all_Si)\n",
    "\n",
    "ln2 = plt.plot(max_eff_all_GaSb)\n",
    "lns = ln1 + ln2\n",
    "plt.xlabel('Emitter Temperature (K)')\n",
    "plt.ylabel('Maximum Efficiency')\n",
    "plt.legend(lns, ('Silicon','GaSb'))\n",
    "#plt.legend(max_eff_all_Si,'Si')"
   ]
  },
  {
   "cell_type": "code",
   "execution_count": null,
   "metadata": {},
   "outputs": [],
   "source": [
    "plt.plot(E_ph,constants['emissivity'])\n",
    "plt.xlim((0.3,2))\n",
    "plt.xlabel('Photon Energy (eV)')\n",
    "plt.ylabel('Emissivity')"
   ]
  },
  {
   "cell_type": "code",
   "execution_count": null,
   "metadata": {},
   "outputs": [],
   "source": [
    "plt.plot(max_pow_all_Si)\n",
    "\n",
    "plt.plot(max_pow_all_GaSb)\n",
    "plt.xlabel('Blackbody Temperature (K)')\n",
    "plt.ylabel('Maximum Power (W/m^2)')"
   ]
  },
  {
   "cell_type": "code",
   "execution_count": null,
   "metadata": {},
   "outputs": [],
   "source": [
    "#generate multiple blackbody spectra now with the solid angle set to half \n",
    "\n",
    "import pandas as pd\n",
    "\n",
    "max_eff_all_Si_pow, max_eff_all_GaSb_pow, max_pow_all_Si_pow,max_pow_all_GaSb_pow = db.max_eff_power(E_ph,constants)\n",
    "    \n",
    "ln1 = plt.plot(max_eff_all_Si)\n",
    "\n",
    "ln2 = plt.plot(max_eff_all_GaSb)\n",
    "lns = ln1 + ln2\n",
    "plt.xlabel('Power')\n",
    "plt.ylabel('Maximum Efficiency')\n",
    "plt.legend(lns, ('Silicon','GaSb'))"
   ]
  },
  {
   "cell_type": "code",
   "execution_count": null,
   "metadata": {},
   "outputs": [],
   "source": [
    "plt.plot(max_pow_all_Si)\n",
    "\n",
    "plt.plot(max_pow_all_GaSb)\n",
    "plt.xlabel('Blackbody Temperature (K)')\n",
    "plt.ylabel('Maximum Power (W/m^2)')\n",
    "\n"
   ]
  },
  {
   "cell_type": "code",
   "execution_count": null,
   "metadata": {},
   "outputs": [],
   "source": [
    "print(\"Silicon cells\")\n",
    "\n",
    "print(\"efficiency \" , max_eff_all_Si[2500])\n",
    "\n",
    "print(\"power \", max_pow_all_Si[2500])\n",
    "print(\"stephan \", db.stephan(2500))\n",
    "\n",
    "print (\"efficency from stephan\" , max_pow_all_Si[2500]/db.stephan(2500)*100)"
   ]
  },
  {
   "cell_type": "code",
   "execution_count": null,
   "metadata": {},
   "outputs": [],
   "source": [
    "print(\"GaSb cells\")\n",
    "\n",
    "\n",
    "print(\"efficiency \" , max_eff_all_GaSb[2500])\n",
    "\n",
    "print(\"power \", max_pow_all_GaSb[2500])\n",
    "print(\"stephan \", db.stephan(2500))\n",
    "\n",
    "print (\"efficency from stephan\" , max_pow_all_GaSb[2500]/db.stephan(2500)*100)"
   ]
  },
  {
   "cell_type": "code",
   "execution_count": null,
   "metadata": {},
   "outputs": [],
   "source": [
    "Temp = np.arange(1000.0, 6000.0,100.0)\n",
    "Rad = np.copy(Temp)\n",
    "\n",
    "for i in range(len(Temp)):\n",
    "    Rad[i] = db.stephan(Temp[i])\n",
    "\n",
    "plt.plot(Temp,Rad)"
   ]
  }
 ],
 "metadata": {
  "kernelspec": {
   "display_name": "Python 3",
   "language": "python",
   "name": "python3"
  },
  "language_info": {
   "codemirror_mode": {
    "name": "ipython",
    "version": 3
   },
   "file_extension": ".py",
   "mimetype": "text/x-python",
   "name": "python",
   "nbconvert_exporter": "python",
   "pygments_lexer": "ipython3",
   "version": "3.6.4"
  }
 },
 "nbformat": 4,
 "nbformat_minor": 2
}
