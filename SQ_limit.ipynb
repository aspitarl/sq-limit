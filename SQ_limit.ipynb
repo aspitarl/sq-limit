{
 "cells": [
  {
   "cell_type": "markdown",
   "metadata": {},
   "source": [
    "# Shockley-Queisser Limit Calculator\n",
    "Or more accurately the _detailed balance limit_ calculator\n",
    "\n",
    "Based on the Mathematica script by Steve Byrnes. Original pdf explaning the script available here: http://sjbyrnes.com/sq.pdf, do check it out, if only for the correct pronunciation of 'Queisser'. \n",
    "\n",
    "From Steve's document:\n",
    "\n",
    "> The Schockley-Queisser (SQ) limit is a famous limit on the maximal possible efficiency of solar cells, limited only by fundamental physics. It applies to most solar cell designs in the world, except for \"tandem solar cells\" and some additional obscure exceptions (discussed at the end of the document) [Check out the original pdf for this info]. The most important parameter in the SQ model is the bandgap of the semiconductor: If the gap is right, the efficiency can be up to 34%, if the gap is way off, the efficiency limit may be much smaller.\n",
    "\n",
    "The efficiency predicted by the SQ limit **applies only to the solar spectrum**. This notebook first recreates the SQ limit calculation to verify the method, and then applies it to some artificial light sources. "
   ]
  },
  {
   "cell_type": "code",
   "execution_count": 285,
   "metadata": {},
   "outputs": [],
   "source": [
    "import numpy as np\n",
    "import scipy.constants as constants\n",
    "import matplotlib.pyplot as plt\n",
    "import matplotlib\n",
    "import os\n",
    "\n",
    "font = {'size' : 22}\n",
    "\n",
    "matplotlib.rc('font',**font)"
   ]
  },
  {
   "cell_type": "code",
   "execution_count": 2,
   "metadata": {},
   "outputs": [],
   "source": [
    "%matplotlib inline"
   ]
  },
  {
   "cell_type": "code",
   "execution_count": 3,
   "metadata": {},
   "outputs": [],
   "source": [
    "# Loading data from text files\n",
    "# You may have to modify the next line if running the notebook locally\n",
    "module_dir = os.path.dirname(os.path.abspath('.\\\\Jupyter\\\\')) + os.sep\n",
    "\n",
    "# the ASTMG173.csv file holds the standard AM1.5 solar spectrum\n",
    "# You can find the original at rredc.nrel.gov/solar/spectra/am1.5\n",
    "spectrum = np.loadtxt(module_dir + '\\\\Spectra\\\\'+ 'ASTMG173.csv', delimiter=',', skiprows=1)"
   ]
  },
  {
   "cell_type": "code",
   "execution_count": 4,
   "metadata": {},
   "outputs": [],
   "source": [
    "# Just some constants for the upcoming math\n",
    "c = constants.value('speed of light in vacuum')\n",
    "h = constants.value('Planck constant in eV s')\n",
    "e = constants.value('elementary charge')\n",
    "k = constants.value('Boltzmann constant in eV/K')\n",
    "\n",
    "pi = 3.1415\n",
    "\n",
    "# Globals\n",
    "Tcell = 300  # Kelvin\n",
    "# Energy Gap\n",
    "# The energy gap enetered here will be highlighted on upcoming plots. \n",
    "# Default is set to silicon bandgap 1.1eV\n",
    "Egap = 1.1  #electron volts\n",
    "egap = 1.1  #electron volts\n",
    "# Silicon = 1.1eV"
   ]
  },
  {
   "cell_type": "code",
   "execution_count": 271,
   "metadata": {},
   "outputs": [],
   "source": [
    "##Why are numbers not correct?\n",
    "\n",
    "#working but off by a factor of 4??\n",
    "\n",
    "#can't figure things out exactly with the factors but get the correct result setting the solid angle to pi. see the one note notebook.\n",
    "\n",
    "r_earth = 6e6\n",
    "r_sun = 6.95e8\n",
    "d_sun = 1.50e11\n",
    "\n",
    "def stephan(T):\n",
    "    result = (5.670367e-8)*(T**4)\n",
    "    \n",
    "    #units W/m^2\n",
    "    return result\n",
    "\n",
    "def solid_angle (r_e, d_sun):\n",
    "    return 4*(pi)*((pi*r_e**2)/(4*pi*d_sun**2))\n",
    "\n",
    "def gen_emissivity(e_low,e_high,E_cutoff,E_bb):\n",
    "    emissivity = np.copy(E_bb)\n",
    "    \n",
    "    i=0\n",
    "    for E in E_bb:\n",
    "        if (E<E_cutoff):\n",
    "            emissivity[i] = e_low\n",
    "        else: \n",
    "            emissivity[i] = e_high\n",
    "        i=i+1    \n",
    "    \n",
    "    return emissivity\n",
    "\n",
    "def lor_emissivity(e_bg,e_high,E_cutoff,w,E_bb):\n",
    "    emissivity = np.copy(E_bb)\n",
    "    \n",
    "    i=0\n",
    "    for E in E_bb:\n",
    "        emissivity[i] = e_bg + (e_high-e_bg)/(1 + ((E-E_cutoff)**2/(w**2))  )\n",
    "        i=i+1   \n",
    "    return emissivity\n",
    "\n",
    "def spect_rad(T,E_bb, emissivity, powfactor = 1):\n",
    "    \n",
    "    a = (2*(E_bb**3))/(h**3*c**2)\n",
    "    b = 1/( np.exp((E_bb)/(k*T)) -1 )\n",
    "    intensity = a*b*powfactor\n",
    "    \n",
    "    intensity = intensity*emissivity\n",
    "    \n",
    "    #intensity = -intensity/np.trapz(intensity,E_bb)\n",
    "    \n",
    "\n",
    "            \n",
    "    \n",
    "    \n",
    "    # units (eV/s)/m^2*eV*sr\n",
    "    \n",
    "    intensity = intensity*e \n",
    "    \n",
    "     # units W/m^2*eV*sr\n",
    "    \n",
    "    spectra = np.transpose(np.stack((E_bb,intensity)))\n",
    "    return spectra\n",
    "\n",
    "def rad_to_power(spectrum, solidangle = solid_angle(r_earth,d_sun),emitterarea = 4*pi*r_sun**2):\n",
    "\n",
    "    spectra =  spectrum[:,1]\n",
    "    spectra = spectra*solidangle/4   ### fudge factor of 4 for now. see above.\n",
    "    spectra = spectra*emitterarea   \n",
    "    spectrum[:,1] = spectra\n",
    "    \n",
    "    # units W/eV\n",
    "    \n",
    "    return spectrum\n",
    "\n",
    "# convert to photons from energy\n",
    "def power_to_photons(spectrum):\n",
    "    converted = np.copy(spectrum)\n",
    "    converted[:, 1] = converted[:, 1]/converted[:,0] * 1/e\n",
    "    \n",
    "    # units #/eV\n",
    "    \n",
    "    return converted\n",
    "\n",
    "def solar(T,E_bb,emissivity):\n",
    "    BB = spect_rad(T,E_bb,emissivity)\n",
    "    BB = rad_to_power(BB)\n",
    "    BB[:,1] = BB[:,1]/(pi*r_earth**2)\n",
    "    # units W/eV\n",
    "    \n",
    "    return BB\n",
    "\n"
   ]
  },
  {
   "cell_type": "code",
   "execution_count": 282,
   "metadata": {},
   "outputs": [
    {
     "name": "stdout",
     "output_type": "stream",
     "text": [
      "280.6958300171312\n",
      "3.762263521545546e+26\n"
     ]
    }
   ],
   "source": [
    "E_min = 0.3\n",
    "E_max = 10\n",
    "E_step = 0.01 \n",
    "E_bb = np.arange(E_min, E_max,E_step) \n",
    "E_bb = np.flip(E_bb,0)\n",
    "\n",
    "#emissivity =gen_emissivity(0.1,1,1.1,E_bb)\n",
    "\n",
    "emissivity =lor_emissivity(0.1,1,1.25,0.1,E_bb)\n",
    "\n",
    "BB_5500K = solar(5750,E_bb,emissivity)\n",
    "\n",
    "BB_2500K = solar(2550,E_bb,emissivity)\n",
    "\n",
    "BB_5500K_ph = power_to_photons(BB_5500K)\n",
    "\n",
    "#check integrated irradiance is ~1kW/m^2\n",
    "integrate = -np.trapz(BB_5500K[:,1],BB_5500K[:,0] )\n",
    "print(integrate)\n",
    "\n",
    "print(stephan(5750)*4*pi*r_sun**2)"
   ]
  },
  {
   "cell_type": "code",
   "execution_count": 273,
   "metadata": {},
   "outputs": [
    {
     "data": {
      "text/plain": [
       "[<matplotlib.lines.Line2D at 0x24b3b506c50>]"
      ]
     },
     "execution_count": 273,
     "metadata": {},
     "output_type": "execute_result"
    },
    {
     "name": "stderr",
     "output_type": "stream",
     "text": [
      "C:\\Users\\aspit\\AppData\\Local\\Continuum\\anaconda3\\lib\\site-packages\\matplotlib\\font_manager.py:1320: UserWarning: findfont: Font family ['normal'] not found. Falling back to DejaVu Sans\n",
      "  (prop.get_family(), self.defaultFamily[fontext]))\n"
     ]
    },
    {
     "data": {
      "image/png": "[encoded data removed]",
      "text/plain": [
       "<matplotlib.figure.Figure at 0x24b3b3cd3c8>"
      ]
     },
     "metadata": {},
     "output_type": "display_data"
    }
   ],
   "source": [
    "plt.plot(emissivity)"
   ]
  },
  {
   "cell_type": "code",
   "execution_count": 274,
   "metadata": {},
   "outputs": [
    {
     "data": {
      "text/plain": [
       "Text(0.5,1,'Spectral Irradiance')"
      ]
     },
     "execution_count": 274,
     "metadata": {},
     "output_type": "execute_result"
    },
    {
     "name": "stderr",
     "output_type": "stream",
     "text": [
      "C:\\Users\\aspit\\AppData\\Local\\Continuum\\anaconda3\\lib\\site-packages\\matplotlib\\font_manager.py:1320: UserWarning: findfont: Font family ['normal'] not found. Falling back to DejaVu Sans\n",
      "  (prop.get_family(), self.defaultFamily[fontext]))\n"
     ]
    },
    {
     "data": {
      "image/png": "[encoded data removed]",
      "text/plain": [
       "<matplotlib.figure.Figure at 0x24b39b6af28>"
      ]
     },
     "metadata": {},
     "output_type": "display_data"
    }
   ],
   "source": [
    "plt.plot(BB_5500K[:,0],BB_5500K[:,1])\n",
    "plt.plot(BB_2500K[:,0],BB_2500K[:,1])\n",
    "plt.xlabel('Photon Energy (eV)')\n",
    "plt.ylabel('Spectral Irradiance ($Wm^{-2}eV^{-1}$)')\n",
    "plt.title('Spectral Irradiance')"
   ]
  },
  {
   "cell_type": "code",
   "execution_count": 166,
   "metadata": {},
   "outputs": [
    {
     "data": {
      "text/plain": [
       "Text(0.5,1,'Spectrum Irradiance')"
      ]
     },
     "execution_count": 166,
     "metadata": {},
     "output_type": "execute_result"
    },
    {
     "data": {
      "image/png": "[encoded data removed]",
      "text/plain": [
       "<matplotlib.figure.Figure at 0x24b3b44d080>"
      ]
     },
     "metadata": {},
     "output_type": "display_data"
    }
   ],
   "source": [
    "plt.plot(BB_5500K_ph[:,0],BB_5500K_ph[:,1] )\n",
    "plt.xlabel('Photon Energy (eV)')\n",
    "plt.ylabel('Photon Irradiance (# $m^{-2}eV^{-1}$)')\n",
    "plt.title('Spectrum Irradiance')"
   ]
  },
  {
   "cell_type": "code",
   "execution_count": 40,
   "metadata": {},
   "outputs": [],
   "source": [
    "def photons_above_bandgap(egap, spectrum):\n",
    "    \"\"\"Counts number of photons above given bandgap\"\"\"\n",
    "    indexes = np.where(spectrum[:, 0] > egap)\n",
    "    y = spectrum[indexes, 1][0]\n",
    "    x = spectrum[indexes, 0][0]\n",
    "    return np.trapz(y[::-1], x[::-1])\n",
    "\n",
    "\n",
    "def photons_above_bandgap_plot(spectrum):\n",
    "    \"\"\"Plot of photons above bandgap as a function of bandgap\"\"\"\n",
    "    a = np.copy(spectrum)\n",
    "    for row in a:\n",
    "        # print row\n",
    "        row[1] = photons_above_bandgap(row[0], spectrum)\n",
    "    plt.plot(a[:, 0], a[:, 1])\n",
    "\n",
    "    p_above_1_1 = photons_above_bandgap(Egap, spectrum)\n",
    "    plt.plot([Egap], [p_above_1_1], 'ro')\n",
    "    plt.text(Egap+0.05, p_above_1_1, '{}eV, {:.4}'.format(Egap, p_above_1_1))\n",
    "\n",
    "    plt.xlabel('$E_{gap}$ (eV)')\n",
    "    plt.ylabel('# Photons $m^{-2}s^{-1}$')\n",
    "    plt.title('Number of above-bandgap \\nphotons as a function of bandgap')\n",
    "    plt.show()"
   ]
  },
  {
   "cell_type": "code",
   "execution_count": 165,
   "metadata": {},
   "outputs": [],
   "source": [
    "#photons_above_bandgap_plot(BB_5500K_ph)"
   ]
  },
  {
   "cell_type": "code",
   "execution_count": 42,
   "metadata": {},
   "outputs": [],
   "source": [
    "def rr0(egap, spectrum):\n",
    "\n",
    "    const = (2 * np.pi) / (c**2 * h**3)\n",
    "\n",
    "    E = spectrum[::-1, ]  # in increasing order of bandgap energy\n",
    "    egap_index = np.where(E[:, 0] >= egap)\n",
    "    numerator = E[:, 0]**2\n",
    "    exponential_in = E[:, 0] / (k * Tcell)\n",
    "    denominator = np.exp(exponential_in) - 1\n",
    "    integrand = numerator / denominator\n",
    "\n",
    "    integral = np.trapz(integrand[egap_index], E[egap_index, 0])\n",
    "\n",
    "    result = const * integral\n",
    "    return result[0]"
   ]
  },
  {
   "cell_type": "code",
   "execution_count": 43,
   "metadata": {},
   "outputs": [],
   "source": [
    "def recomb_rate(egap, spectrum, voltage):\n",
    "    print( 'recomb rate')\n",
    "    return e * rr0(egap, spectrum) * np.exp(voltage / (k * Tcell))"
   ]
  },
  {
   "cell_type": "code",
   "execution_count": 94,
   "metadata": {},
   "outputs": [],
   "source": [
    "def current_density(egap, spectrum, voltage):\n",
    "    # print 'current_density'\n",
    "    # print photons_above_bandgap(egap, spectrum), 'photons above bandgap'\n",
    "    # print e * (photons_above_bandgap(egap, spectrum) - rr0(egap, spectrum)), 'photons above bandgap - rr0'\n",
    "    return e * (photons_above_bandgap(egap, spectrum) - rr0(egap, spectrum) * np.exp(voltage / (k * Tcell)) -1)\n",
    "\n",
    "\n",
    "def jsc(egap, spectrum):\n",
    "    # print 'jsc'\n",
    "    return current_density(egap, spectrum, 0)\n",
    "\n",
    "\n",
    "def voc(egap, spectrum):\n",
    "    # print 'voc'\n",
    "    return (k * Tcell) * np.log(photons_above_bandgap(egap, spectrum) / rr0(egap, spectrum))"
   ]
  },
  {
   "cell_type": "code",
   "execution_count": 95,
   "metadata": {},
   "outputs": [
    {
     "name": "stdout",
     "output_type": "stream",
     "text": [
      "A material with a bandgap of 1.10 will have an:\n",
      "Ideal short circuit current:  85.74760638328827 A/m^2\n",
      "Ideal open circuit  voltage:  0.8150721386139764 V\n"
     ]
    }
   ],
   "source": [
    "# For an ideal solar cell these will be\n",
    "print('A material with a bandgap of %.2f will have an:' % Egap)\n",
    "print('Ideal short circuit current: ', jsc(1.1, BB_5500K_ph), 'A/m^2')\n",
    "print('Ideal open circuit  voltage: ', voc(1.1, BB_5500K_ph), 'V')"
   ]
  },
  {
   "cell_type": "code",
   "execution_count": 96,
   "metadata": {},
   "outputs": [],
   "source": [
    "def ideal_jsc_plot(spectrum):\n",
    "    \"\"\"Plot of photons above bandgap as a function of bandgap\"\"\"\n",
    "    a = np.copy(spectrum)\n",
    "    for row in a:\n",
    "        # print row\n",
    "        row[1] = jsc(row[0], spectrum)\n",
    "    plt.plot(a[:, 0], a[:, 1])\n",
    "    e_gap = 1.1\n",
    "    p_above_1_1 = jsc(e_gap, spectrum)\n",
    "    plt.plot([e_gap], [p_above_1_1], 'ro')\n",
    "    plt.text(e_gap+0.05, p_above_1_1, '{}eV, {:.4}'.format(e_gap, p_above_1_1))\n",
    "\n",
    "    plt.xlabel('$E_{gap}$ (eV)')\n",
    "    plt.ylabel('$J_{SC}$ $Am^{-2}$')\n",
    "    plt.title('Ideal short-circuit current')\n",
    "\n",
    "\n",
    "def ideal_voc_plot(spectrum):\n",
    "    \"\"\"Plot of the ideal open circuit voltage as a function of bandgap\"\"\"\n",
    "    a = np.copy(spectrum)\n",
    "    for row in a[2:]:\n",
    "        # print row\n",
    "        row[1] = voc(row[0], spectrum)\n",
    "    plt.plot(a[:, 0], a[:, 1])\n",
    "    plt.plot(a[:, 0], a[:, 0])\n",
    "    e_gap = 1.1\n",
    "    p_above_1_1 = voc(e_gap, spectrum)\n",
    "    plt.plot([e_gap], [p_above_1_1], 'ro')\n",
    "    plt.text(e_gap+0.05, p_above_1_1, '{}eV, {:.4}'.format(e_gap, p_above_1_1))\n",
    "\n",
    "    plt.xlabel('$E_{gap}$ (eV)')\n",
    "    plt.ylabel('$V_{OC}$ (V)')\n",
    "    plt.xlim((0.5,3.5))\n",
    "    plt.ylim((0,3.5))\n",
    "    plt.title('Ideal open-circuit voltage. Straight line is bandgap.')"
   ]
  },
  {
   "cell_type": "code",
   "execution_count": 164,
   "metadata": {},
   "outputs": [],
   "source": [
    "#ideal_jsc_plot(BB_5500K_ph)"
   ]
  },
  {
   "cell_type": "code",
   "execution_count": 163,
   "metadata": {},
   "outputs": [],
   "source": [
    "#ideal_voc_plot(BB_5500K_ph)"
   ]
  },
  {
   "cell_type": "code",
   "execution_count": 168,
   "metadata": {},
   "outputs": [],
   "source": [
    "def iv_curve_plot(egap, spectrum, power=False):\n",
    "    \"\"\"Plots the ideal IV curve, or the ideal power for a given material\"\"\"\n",
    "    v_open = voc(egap, spectrum)\n",
    "    v = np.linspace(0, v_open)\n",
    "    if power:\n",
    "        p =  v * current_density(egap, spectrum, v)\n",
    "        plt.xlabel('Voltage (V)')\n",
    "        plt.ylabel('Power generated ($W$)')\n",
    "        plt.title('Power Curve')\n",
    "        plt.plot(v, p)\n",
    "    else:\n",
    "        i =  current_density(egap, spectrum, v)\n",
    "        plt.xlabel('Voltage (V)')\n",
    "        plt.ylabel('Current density $J$ ($Am^{-2}$)')\n",
    "        plt.title('IV Curve')\n",
    "        plt.plot(v, i)\n",
    "    \n",
    "#iv_curve_plot(Egap, BB_5500K_ph)"
   ]
  },
  {
   "cell_type": "code",
   "execution_count": 169,
   "metadata": {},
   "outputs": [],
   "source": [
    "def iv_curve_plot(egap, spectrum, power=False):\n",
    "    \"\"\"Plots the ideal IV curve, and the ideal power for a given material\"\"\"\n",
    "    v_open = voc(egap, spectrum)\n",
    "    v = np.linspace(0, v_open)\n",
    "\n",
    "    fig, ax1 = plt.subplots()\n",
    "    p =  v * current_density(egap, spectrum, v)\n",
    "    i =  current_density(egap, spectrum, v)\n",
    "    \n",
    "    ax1.plot(v, i)\n",
    "    ax1.set_xlabel('Voltage (V)')\n",
    "    ax1.set_ylabel('Current density $J$ ($Am^{-2}$)')\n",
    "    ax1.legend(['Current'], loc=2)\n",
    "    \n",
    "    ax2 = ax1.twinx()\n",
    "    ax2.plot(v, p, color='orange')\n",
    "    ax2.set_ylabel('Power generated ($W$)')\n",
    "    ax2.legend(['Power'], loc=3)\n",
    "    return\n",
    "\n",
    "\n",
    "#iv_curve_plot(Egap, BB_5500K_ph)"
   ]
  },
  {
   "cell_type": "code",
   "execution_count": 101,
   "metadata": {},
   "outputs": [],
   "source": [
    "def v_at_mpp(egap, spectrum):\n",
    "    v_open = voc(egap, spectrum)\n",
    "    # print v_open\n",
    "    v = np.linspace(0, v_open)\n",
    "    index = np.where(v * current_density(egap, spectrum, v)==max(v * current_density(egap, spectrum, v)))\n",
    "    return v[index][0]\n",
    "\n",
    "\n",
    "def j_at_mpp(egap, spectrum):\n",
    "    return max_power(egap, spectrum) / v_at_mpp(egap, spectrum)\n",
    "\n",
    "\n",
    "def max_power(egap, spectrum):\n",
    "    v_open = voc(egap, spectrum)\n",
    "    # print v_open\n",
    "    v = np.linspace(0, v_open)\n",
    "    index = np.where(v * current_density(egap, spectrum, v)==max(v * current_density(egap, spectrum, v)))\n",
    "    return max(v * current_density(egap, spectrum, v))\n",
    "\n",
    "def int_irr(egap, spectrum):\n",
    "    irradiance =  np.trapz(spectrum[::-1, 1] * e * spectrum[::-1, 0], spectrum[::-1, 0])\n",
    "    # print photons_above_bandgap(egap, spectrum) * e\n",
    "    return irradiance\n",
    "\n",
    "\n",
    "def max_eff(egap, spectrum):\n",
    "    irradiance =  np.trapz(spectrum[::-1, 1] * e * spectrum[::-1, 0], spectrum[::-1, 0])\n",
    "    # print photons_above_bandgap(egap, spectrum) * e\n",
    "    return max_power(egap, spectrum) / irradiance"
   ]
  },
  {
   "cell_type": "code",
   "execution_count": 75,
   "metadata": {},
   "outputs": [
    {
     "name": "stdout",
     "output_type": "stream",
     "text": [
      "For a cell with bandgap 1.10 eV\n",
      "max power 11.68\n",
      "Irradiance 28.38\n",
      "Ideal efficiency is 41.16%\n"
     ]
    }
   ],
   "source": [
    "print('For a cell with bandgap %.2f eV' % Egap)\n",
    "print('max power %.2f' % max_power(Egap, BB_5500K_ph) )\n",
    "print('Irradiance %.2f' % int_irr(Egap, BB_5500K_ph ))\n",
    "print('Ideal efficiency is {:.4}%'.format(max_eff(Egap, BB_5500K_ph)*100))"
   ]
  },
  {
   "cell_type": "code",
   "execution_count": 283,
   "metadata": {},
   "outputs": [
    {
     "data": {
      "text/plain": [
       "<matplotlib.legend.Legend at 0x24b3f6c3f28>"
      ]
     },
     "execution_count": 283,
     "metadata": {},
     "output_type": "execute_result"
    },
    {
     "name": "stderr",
     "output_type": "stream",
     "text": [
      "C:\\Users\\aspit\\AppData\\Local\\Continuum\\anaconda3\\lib\\site-packages\\matplotlib\\font_manager.py:1320: UserWarning: findfont: Font family ['normal'] not found. Falling back to DejaVu Sans\n",
      "  (prop.get_family(), self.defaultFamily[fontext]))\n"
     ]
    },
    {
     "data": {
      "image/png": "[encoded data removed]",
      "text/plain": [
       "<matplotlib.figure.Figure at 0x24b3cbb5be0>"
      ]
     },
     "metadata": {},
     "output_type": "display_data"
    }
   ],
   "source": [
    "#generate multiple blackbody spectra\n",
    "\n",
    "import pandas as pd\n",
    "\n",
    "def max_eff_temp(Tmin,Tmax,dT,sourcetype = 1):\n",
    "    # sourcetype 1 for sun and 0 for full angle\n",
    "\n",
    "    Temps = pd.Series(np.arange(Tmin,Tmax,dT))\n",
    "\n",
    "    spectra_ph_all = pd.Series(index = Temps,dtype=object)\n",
    "\n",
    "    max_eff_all_Si = pd.Series(index = Temps)\n",
    "\n",
    "    max_eff_all_GaSb = pd.Series(index = Temps)\n",
    "\n",
    "    max_pow_all_Si = pd.Series(index = Temps)\n",
    "\n",
    "    max_pow_all_GaSb = pd.Series(index = Temps)\n",
    "\n",
    "\n",
    "    i=0\n",
    "    for temp in Temps:\n",
    "        if sourcetype:\n",
    "            spectra = solar(temp,E_bb,emissivity)\n",
    "        else:\n",
    "            spectra = spect_rad(temp,E_bb,emissivity)\n",
    "            spectra = rad_to_power(spectra, solidangle = 4*pi, emitterarea = 1)\n",
    "        spectra_ph = power_to_photons(spectra)\n",
    "\n",
    "        spectra_ph_all[temp] = spectra_ph\n",
    "        max_eff_all_Si[temp] = max_eff(Egap, spectra_ph)*100\n",
    "        max_eff_all_GaSb[temp] = max_eff(0.7, spectra_ph)*100\n",
    "\n",
    "        max_pow_all_Si[temp] = max_power(Egap, spectra_ph)\n",
    "        max_pow_all_GaSb[temp] = max_power(0.7, spectra_ph)\n",
    "        i=i+1\n",
    "    \n",
    "    return max_eff_all_Si, max_eff_all_GaSb, max_pow_all_Si,max_pow_all_GaSb\n",
    "\n",
    "\n",
    "max_eff_all_Si, max_eff_all_GaSb, max_pow_all_Si,max_pow_all_GaSb = max_eff_temp(1000,3000,100, 0)\n",
    "#spectra_ph_all\n",
    "\n",
    "ln1 = plt.plot(max_eff_all_Si)\n",
    "\n",
    "ln2 = plt.plot(max_eff_all_GaSb)\n",
    "lns = ln1 + ln2\n",
    "plt.xlabel('Emitter Temperature (K)')\n",
    "plt.ylabel('Maximum Efficiency')\n",
    "plt.legend(lns, ('Silicon','GaSb'))\n",
    "#plt.legend(max_eff_all_Si,'Si')"
   ]
  },
  {
   "cell_type": "code",
   "execution_count": 286,
   "metadata": {},
   "outputs": [
    {
     "data": {
      "text/plain": [
       "Text(0,0.5,'Emissivity')"
      ]
     },
     "execution_count": 286,
     "metadata": {},
     "output_type": "execute_result"
    },
    {
     "name": "stderr",
     "output_type": "stream",
     "text": [
      "C:\\Users\\aspit\\AppData\\Local\\Continuum\\anaconda3\\lib\\site-packages\\matplotlib\\font_manager.py:1320: UserWarning: findfont: Font family ['normal'] not found. Falling back to DejaVu Sans\n",
      "  (prop.get_family(), self.defaultFamily[fontext]))\n"
     ]
    },
    {
     "data": {
      "image/png": "[encoded data removed]",
      "text/plain": [
       "<matplotlib.figure.Figure at 0x24b3f6e2ac8>"
      ]
     },
     "metadata": {},
     "output_type": "display_data"
    }
   ],
   "source": [
    "plt.plot(E_bb,emissivity)\n",
    "plt.xlim((0.3,2))\n",
    "plt.xlabel('Photon Energy (eV)')\n",
    "plt.ylabel('Emissivity')"
   ]
  },
  {
   "cell_type": "code",
   "execution_count": 22,
   "metadata": {},
   "outputs": [
    {
     "data": {
      "text/plain": [
       "Text(0,0.5,'Maximum Power (W/m^2)')"
      ]
     },
     "execution_count": 22,
     "metadata": {},
     "output_type": "execute_result"
    },
    {
     "data": {
      "image/png": "[encoded data removed]",
      "text/plain": [
       "<matplotlib.figure.Figure at 0x24b360d9b00>"
      ]
     },
     "metadata": {},
     "output_type": "display_data"
    }
   ],
   "source": [
    "plt.plot(max_pow_all_Si)\n",
    "\n",
    "plt.plot(max_pow_all_GaSb)\n",
    "plt.xlabel('Blackbody Temperature (K)')\n",
    "plt.ylabel('Maximum Power (W/m^2)')"
   ]
  },
  {
   "cell_type": "code",
   "execution_count": 150,
   "metadata": {},
   "outputs": [
    {
     "data": {
      "text/plain": [
       "<matplotlib.legend.Legend at 0x24b3b0a25c0>"
      ]
     },
     "execution_count": 150,
     "metadata": {},
     "output_type": "execute_result"
    },
    {
     "data": {
      "image/png": "[encoded data removed]",
      "text/plain": [
       "<matplotlib.figure.Figure at 0x24b3af9d390>"
      ]
     },
     "metadata": {},
     "output_type": "display_data"
    }
   ],
   "source": [
    "#generate multiple blackbody spectra now with the solid angle set to half \n",
    "\n",
    "import pandas as pd\n",
    "\n",
    "powers = pd.Series(np.arange(10, 1000,10))\n",
    "\n",
    "spectra_ph_all = pd.Series(index = powers,dtype=object)\n",
    "\n",
    "max_eff_all_Si = pd.Series(index = powers)\n",
    "\n",
    "max_eff_all_GaSb = pd.Series(index = powers)\n",
    "\n",
    "max_pow_all_Si = pd.Series(index = powers)\n",
    "\n",
    "max_pow_all_GaSb = pd.Series(index = powers)\n",
    "\n",
    "\n",
    "\n",
    "i=0\n",
    "for power in powers:\n",
    "    spectra = spect_rad(5500, powfactor = power )\n",
    "    spectra = rad_to_power(spectra, solidangle = 4*pi, emitterarea = 1)\n",
    "    spectra_ph = power_to_photons(spectra)\n",
    "    \n",
    "    spectra_ph_all[power] = spectra_ph\n",
    "    max_eff_all_Si[power] = max_eff(Egap, spectra_ph)*100\n",
    "    max_eff_all_GaSb[power] = max_eff(0.7, spectra_ph)*100\n",
    "    \n",
    "    max_pow_all_Si[power] = max_power(Egap, spectra_ph)\n",
    "    max_pow_all_GaSb[power] = max_power(0.7, spectra_ph)\n",
    "    i=i+1\n",
    "    \n",
    "    \n",
    "ln1 = plt.plot(max_eff_all_Si)\n",
    "\n",
    "ln2 = plt.plot(max_eff_all_GaSb)\n",
    "lns = ln1 + ln2\n",
    "plt.xlabel('Power')\n",
    "plt.ylabel('Maximum Efficiency')\n",
    "plt.legend(lns, ('Silicon','GaSb'))"
   ]
  },
  {
   "cell_type": "code",
   "execution_count": 162,
   "metadata": {},
   "outputs": [
    {
     "data": {
      "text/plain": [
       "Text(0,0.5,'Maximum Power (W/m^2)')"
      ]
     },
     "execution_count": 162,
     "metadata": {},
     "output_type": "execute_result"
    },
    {
     "data": {
      "image/png": "[encoded data removed]",
      "text/plain": [
       "<matplotlib.figure.Figure at 0x24b3b2c4080>"
      ]
     },
     "metadata": {},
     "output_type": "display_data"
    }
   ],
   "source": [
    "plt.plot(max_pow_all_Si)\n",
    "\n",
    "plt.plot(max_pow_all_GaSb)\n",
    "plt.xlabel('Blackbody Temperature (K)')\n",
    "plt.ylabel('Maximum Power (W/m^2)')\n",
    "\n"
   ]
  },
  {
   "cell_type": "code",
   "execution_count": 25,
   "metadata": {},
   "outputs": [
    {
     "name": "stdout",
     "output_type": "stream",
     "text": [
      "Silicon cells\n",
      "efficiency  0.017917548434446037\n",
      "power  272.2507506174327\n",
      "stephan  2214987.109375\n",
      "efficency from stephan 0.012291301807812927\n"
     ]
    }
   ],
   "source": [
    "print(\"Silicon cells\")\n",
    "\n",
    "print(\"efficiency \" , max_eff_all_Si[2500])\n",
    "\n",
    "print(\"power \", max_pow_all_Si[2500])\n",
    "print(\"stephan \", stephan(2500))\n",
    "\n",
    "print (\"efficency from stephan\" , max_pow_all_Si[2500]/stephan(2500)*100)"
   ]
  },
  {
   "cell_type": "code",
   "execution_count": 26,
   "metadata": {},
   "outputs": [
    {
     "name": "stdout",
     "output_type": "stream",
     "text": [
      "GaSb cells\n",
      "efficiency  30.427904604643548\n",
      "power  462341.14553328184\n",
      "stephan  2214987.109375\n",
      "efficency from stephan 20.87331089090356\n"
     ]
    }
   ],
   "source": [
    "print(\"GaSb cells\")\n",
    "\n",
    "\n",
    "print(\"efficiency \" , max_eff_all_GaSb[2500])\n",
    "\n",
    "print(\"power \", max_pow_all_GaSb[2500])\n",
    "print(\"stephan \", stephan(2500))\n",
    "\n",
    "print (\"efficency from stephan\" , max_pow_all_GaSb[2500]/stephan(2500)*100)"
   ]
  },
  {
   "cell_type": "markdown",
   "metadata": {},
   "source": [
    "To find the famous SQ limit curve, we need to maximise the ideal generated power over the bandgap energies. "
   ]
  },
  {
   "cell_type": "code",
   "execution_count": 27,
   "metadata": {},
   "outputs": [],
   "source": [
    "def sq_limit_plot(spectrum):\n",
    "    # Plot the famous SQ limit\n",
    "    a = np.copy(spectrum)\n",
    "    # Not for whole array hack to remove divide by 0 errors\n",
    "    for row in a[2:]:\n",
    "        # print row\n",
    "        row[1] = max_eff(row[0], spectrum)\n",
    "    # Not plotting whole array becase some bad values happen\n",
    "    plt.plot(a[2:, 0], a[2:, 1])\n",
    "    e_gap = Egap\n",
    "    p_above_1_1 = max_eff(e_gap, spectrum)\n",
    "    plt.plot([e_gap], [p_above_1_1], 'ro')\n",
    "    plt.text(e_gap+0.05, p_above_1_1, '{}eV, {:.4}'.format(e_gap, p_above_1_1))\n",
    "\n",
    "    plt.xlabel('$E_{gap}$ (eV)')\n",
    "    plt.ylabel('Max efficiency')\n",
    "    plt.title('SQ Limit')"
   ]
  },
  {
   "cell_type": "code",
   "execution_count": 88,
   "metadata": {},
   "outputs": [
    {
     "data": {
      "image/png": "[encoded data removed]",
      "text/plain": [
       "<matplotlib.figure.Figure at 0x24b3835e630>"
      ]
     },
     "metadata": {},
     "output_type": "display_data"
    }
   ],
   "source": [
    "sq_limit_plot(BB_5500K_ph)"
   ]
  },
  {
   "cell_type": "code",
   "execution_count": 29,
   "metadata": {},
   "outputs": [
    {
     "data": {
      "text/plain": [
       "[<matplotlib.lines.Line2D at 0x24b36b5eac8>]"
      ]
     },
     "execution_count": 29,
     "metadata": {},
     "output_type": "execute_result"
    },
    {
     "data": {
      "image/png": "[encoded data removed]",
      "text/plain": [
       "<matplotlib.figure.Figure at 0x24b32aa16d8>"
      ]
     },
     "metadata": {},
     "output_type": "display_data"
    }
   ],
   "source": [
    "def stephan(T):\n",
    "    result = (5.670367e-8)*(T**4)\n",
    "    return result\n",
    "\n",
    "Temp = np.arange(1000.0, 6000.0,100.0)\n",
    "Rad = np.copy(Temp)\n",
    "\n",
    "for i in range(len(Temp)):\n",
    "    Rad[i] = stephan(Temp[i])\n",
    "\n",
    "plt.plot(Temp,Rad)"
   ]
  },
  {
   "cell_type": "code",
   "execution_count": 30,
   "metadata": {},
   "outputs": [
    {
     "name": "stdout",
     "output_type": "stream",
     "text": [
      "2.8977685e-06\n"
     ]
    }
   ],
   "source": [
    "b = 2.8977685e-3\n",
    "\n",
    "T = b/1000\n",
    "\n",
    "print(T)"
   ]
  },
  {
   "cell_type": "code",
   "execution_count": null,
   "metadata": {},
   "outputs": [],
   "source": []
  }
 ],
 "metadata": {
  "kernelspec": {
   "display_name": "Python 3",
   "language": "python",
   "name": "python3"
  },
  "language_info": {
   "codemirror_mode": {
    "name": "ipython",
    "version": 3
   },
   "file_extension": ".py",
   "mimetype": "text/x-python",
   "name": "python",
   "nbconvert_exporter": "python",
   "pygments_lexer": "ipython3",
   "version": "3.6.4"
  }
 },
 "nbformat": 4,
 "nbformat_minor": 2
}
